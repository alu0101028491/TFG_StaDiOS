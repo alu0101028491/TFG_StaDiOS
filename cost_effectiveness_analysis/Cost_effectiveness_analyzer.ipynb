{
 "cells": [
  {
   "cell_type": "markdown",
   "metadata": {
    "id": "K7QBzGdrTn9A"
   },
   "source": [
    "# **Cost-effectiveness analysis - StaDiOS**"
   ]
  },
  {
   "cell_type": "markdown",
   "metadata": {},
   "source": [
    "* Install the dependencies to be used in the analysis"
   ]
  },
  {
   "cell_type": "code",
   "execution_count": null,
   "metadata": {
    "id": "LSBKtWzEGh8X"
   },
   "outputs": [],
   "source": [
    "# SPARQL endpoint interface\n",
    "%pip install sparqlwrapper\n",
    "from SPARQLWrapper import SPARQLWrapper, JSON\n",
    "\n",
    "# Pandas dependencies\n",
    "%pip install pandas\n",
    "import pandas as pd\n",
    "from pandas import json_normalize\n",
    "\n",
    "# Export dependencies and file modification\n",
    "import json\n",
    "#from google.colab import files\n",
    "#from IPython.display import FileLink\n",
    "\n",
    "# Graphical representations and interaction options\n",
    "%pip install matplotlib\n",
    "#%pip install itables\n",
    "%pip install pydot\n",
    "import matplotlib.pyplot as plt\n",
    "import pydot\n",
    "#from itables import show\n",
    "from IPython.display import Image, display\n",
    "\n",
    "#Combinatorics for branch probabilities in cost-effectiveness analysis\n",
    "%pip install itertools\n",
    "from itertools import product"
   ]
  },
  {
   "attachments": {},
   "cell_type": "markdown",
   "metadata": {
    "id": "L_gnhjwURqMA"
   },
   "source": [
    "* Standard query to start creating cost-effectiveness analysis."
   ]
  },
  {
   "cell_type": "code",
   "execution_count": null,
   "metadata": {
    "id": "uEGKsDOdle0r"
   },
   "outputs": [],
   "source": [
    "def generate_query(sparql_query, endpoint):\n",
    "\n",
    "    # Create the connection to the endpoint\n",
    "    sparql = SPARQLWrapper(endpoint, agent=\"SparqlWrapper - StaDiOS analysis\")  \n",
    "    sparql.setQuery(sparql_query)\n",
    "    sparql.setReturnFormat(JSON)\n",
    "\n",
    "    # Ask for the result in JSON format\n",
    "    result = sparql.query().convert()\n",
    "    return json_normalize(result[\"results\"][\"bindings\"])\n",
    "\n",
    "# Sparql ontology access point\n",
    "end_point = \"http://localhost:3030/StaDiOS/sparql\"\n",
    "\n",
    "# Standard query to enable analysis\n",
    "query = \"\"\"\n",
    "\n",
    "PREFIX st: <http://ns.inria.fr/sparql-template/>\n",
    "PREFIX xsd: <http://www.w3.org/2001/XMLSchema#>\n",
    "PREFIX owl: <http://www.w3.org/2002/07/owl#>\n",
    "PREFIX rdf: <http://www.w3.org/1999/02/22-rdf-syntax-ns#>\n",
    "PREFIX rdfs: <http://www.w3.org/2000/01/rdf-schema#>\n",
    "PREFIX std: <http://www.semanticweb.org/storh/ontologies/2022/11/StaDiOS#>\n",
    "\n",
    "SELECT ?disease ?intervention ?interventionKind ?populationKind ?populationSetAge ?populationEndAge ?detectionStrategy ?sensitivity ?specificity ?prevalenceAtBirth ?detectionStrategyAmount ?detectionStrategyCurrency ?detectionStrategyYear ?development ?lifeExpectancy ?manifestation ?manifestationProbability ?manifestationInitialAmount ?manifestationAnnualAmount ?manifestationCurrency ?manifestationYear ?utilityValue ?utilityKind ?followUpStrategy ?followUpAmount ?followUpCurrency ?followUpYear ?treatmentStrategy ?treatmentStrategyAmount ?treatmentStrategyCurrency ?treatmentYear\n",
    "WHERE {\n",
    "    ?disease std:hasInterventions ?intervention;\n",
    "             std:hasPrevalenceAtBirth ?prevalenceAtBirth .\n",
    "    ?intervention std:hasInterventionDetectionStrategy ?detectionStrategy;\n",
    "                  std:hasInterventionFollowUpStrategy ?followUpStrategy;\n",
    "                  std:hasInterventionTreatmentStrategy ?treatmentStrategy;\n",
    "                  std:hasInterventionKind ?interventionKind;\n",
    "  \t\t\t\t  std:hasInterventionPopulation ?interventionPopulation.\n",
    "\n",
    "    ?detectionStrategy std:hasDetectionStrategyCost ?detectionStrategyCost;\n",
    "                       std:hasSpecificity ?specificity;\n",
    "                       std:hasSensitivity ?sensitivity.\n",
    "    ?detectionStrategyCost std:hasAmount ?detectionStrategyAmount;\n",
    "                           std:hasCurrency ?detectionStrategyCurrency;\n",
    "                           std:hasYear ?detectionStrategyYear .\n",
    "    ?followUpStrategy std:hasFollowUpStrategyCost ?followUpStrategyCost .\n",
    "    ?followUpStrategyCost std:hasAmount ?followUpAmount;\n",
    "                          std:hasCurrency ?followUpCurrency;\n",
    "                          std:hasYear ?followUpYear.\n",
    "    ?treatmentStrategy std:hasTreatmentStrategyCost ?treatmentStrategyCost .\n",
    "    ?treatmentStrategyCost std:hasAmount ?treatmentStrategyAmount;\n",
    "                           std:hasCurrency ?treatmentStrategyCurrency;\n",
    "                           std:hasYear ?treatmentYear.\n",
    "    ?interventionPopulation std:hasPopulationKind ?populationKind;\n",
    "                            std:hasOnSetAge ?populationSetAge;\n",
    "                            std:hasEndAge ?populationEndAge;\n",
    "                            std:hasStudyIdentifier ?studyIdentifier .\n",
    "    ?disease std:hasDiseaseDevelopments ?development .\n",
    "    ?development std:hasDevelopmentManifestations ?manifestation;\n",
    "                 std:hasLifeExpentancy ?lifeExpectancy .\n",
    "    ?manifestation std:hasManifestationTreatmentStrategy ?treatmentStrategy;\n",
    "                   std:hasManifestationCost ?manifestationCost;\n",
    "                   std:hasUtility ?utility;\n",
    "                   std:hasProbability ?manifestationProbability .\n",
    "    ?manifestationCost std:hasAmount ?manifestationAnnualAmount;\n",
    "                       std:hasInitialAmount ?manifestationInitialAmount;\n",
    "                       std:hasCurrency ?manifestationCurrency;\n",
    "                       std:hasYear ?manifestationYear;\n",
    "                       std:hasStudyIdentifier ?studyIdentifier .\n",
    "    ?utility std:hasValue ?utilityValue;\n",
    "             std:hasUtilityKind ?utilityKind;\n",
    "             std:hasStudyIdentifier ?studyIdentifier .\n",
    "\n",
    "    FILTER(?disease = std:PBD_ProfoundBiotinidaseDeficiency && ?development = std:PBD_NaturalDevelopment \n",
    "    && ?followUpStrategy = std:PBD_FollowUpStrategy && ?treatmentStrategy = std:PBD_BiotinTreatmentStrategy) .\n",
    "    FILTER (STR(?studyIdentifier) = \"PBD_001\") .\n",
    "}\n",
    "\n",
    "\"\"\""
   ]
  },
  {
   "cell_type": "markdown",
   "metadata": {},
   "source": [
    "* We obtain a query in JSON format and load it into a Dataframe for easy manipulation."
   ]
  },
  {
   "cell_type": "code",
   "execution_count": null,
   "metadata": {
    "id": "2ndunK6QnQUy"
   },
   "outputs": [],
   "source": [
    "# Query\n",
    "query_result = generate_query(query, end_point)\n",
    "\n",
    "# Simplify column names and data types\n",
    "pd.set_option('display.max_columns', None)\n",
    "simplified_df = query_result.filter(regex='value')\n",
    "simplified_df = simplified_df.rename(columns = lambda col: col.replace(\".value\", \"\"))\n",
    "simplified_df = simplified_df.apply(lambda row: row.replace({'http://www.semanticweb.org/storh/ontologies/2022/11/StaDiOS#':''}, regex=True))\n",
    "\n",
    "simplified_df['sensitivity'] = simplified_df['sensitivity'].apply(pd.to_numeric)\n",
    "simplified_df['specificity'] = simplified_df['specificity'].apply(pd.to_numeric)\n",
    "simplified_df['manifestationProbability'] = simplified_df['manifestationProbability'].apply(pd.to_numeric)\n",
    "simplified_df['prevalenceAtBirth'] = simplified_df['prevalenceAtBirth'].apply(pd.to_numeric)\n",
    "\n",
    "simplified_df"
   ]
  },
  {
   "cell_type": "markdown",
   "metadata": {},
   "source": [
    "* We separate the dataframe into subtables based on the type of intervention"
   ]
  },
  {
   "cell_type": "code",
   "execution_count": null,
   "metadata": {},
   "outputs": [],
   "source": [
    "interventions = simplified_df.intervention.unique()\n",
    "grouped_interventions = simplified_df.groupby(simplified_df.intervention)\n",
    "interventions_df = list()\n",
    "\n",
    "for intervention in interventions:\n",
    "    interventions_df.append(grouped_interventions.get_group(intervention))"
   ]
  },
  {
   "cell_type": "markdown",
   "metadata": {},
   "source": [
    "* Depending on the type of intervention, dataframes may require some transformation."
   ]
  },
  {
   "cell_type": "code",
   "execution_count": null,
   "metadata": {},
   "outputs": [],
   "source": [
    "# Screening detection probability values - We assume that there is no guaranteed hit\n",
    "def adjust_detection_probability(dataframe):\n",
    "\n",
    "    dataframe.loc[dataframe['DetectionCase'] == 'True Positive', 'DetectionProbability'] = dataframe['sensitivity']*dataframe['prevalenceAtBirth']\n",
    "    dataframe.loc[dataframe['DetectionCase'] == 'False Positive', 'DetectionProbability'] = (1-dataframe['sensitivity'])*(1-dataframe['prevalenceAtBirth'])\n",
    "    dataframe.loc[dataframe['DetectionCase'] == 'True Negative', 'DetectionProbability'] = dataframe['specificity']*(1-dataframe['prevalenceAtBirth'])\n",
    "    dataframe.loc[dataframe['DetectionCase'] == 'False Negative', 'DetectionProbability'] = (1-dataframe['specificity'])*(dataframe['prevalenceAtBirth'])\n",
    "\n",
    "    return dataframe\n",
    "\n",
    "# Screening configuration - True positive, False positive, True negative - False positive data obtained from StaDiOs\n",
    "def screening_simulation(dataframe):\n",
    "    \n",
    "    dataframe.insert(6, 'hasDisease', 'Disease')\n",
    "    dataframe.insert(7, 'DetectionCase', 'False Negative')\n",
    "    dataframe.insert(12, 'DetectionProbability', 1.0)\n",
    "    dataframe = dataframe.reset_index(drop=True)\n",
    "\n",
    "    # True positive configuration - No manifestation, only detection and treatment costs\n",
    "    dataframe = pd.concat([dataframe, dataframe[-1:]]).reset_index(drop=True)\n",
    "    dataframe.loc[dataframe.index[-1],['hasDisease', 'DetectionCase','DetectionProbability', 'manifestation', 'manifestationProbability',\t\n",
    "                             'manifestationInitialAmount', 'manifestationAnnualAmount', 'utilityValue']] = \\\n",
    "        ['Disease', 'True Positive', 1.0, 'NONE', 0.0, 0.0, 0.0, 1.0 ]\n",
    "    \n",
    "    # False positive configuration - No manifestation, only detection costs\n",
    "    dataframe = pd.concat([dataframe, dataframe[-1:]]).reset_index(drop=True)\n",
    "    dataframe.loc[dataframe.index[-1],['hasDisease', 'DetectionCase','DetectionProbability', 'manifestation', 'manifestationProbability',\t\n",
    "                             'manifestationInitialAmount', 'manifestationAnnualAmount', 'utilityValue']] = \\\n",
    "        ['No Disease', 'False Positive', 1.0, 'NONE', 0.0, 0.0, 0.0, 1.0 ]\n",
    "\n",
    "    # True negative configuration - No manifestation, only detection costs\n",
    "    dataframe = pd.concat([dataframe, dataframe[-1:]]).reset_index(drop=True)\n",
    "    dataframe.loc[dataframe.index[-1],['hasDisease', 'DetectionCase','DetectionProbability', 'manifestation', 'manifestationProbability',\t\n",
    "                             'manifestationInitialAmount', 'manifestationAnnualAmount', 'utilityValue']] = \\\n",
    "        ['No Disease', 'True Negative', 1.0, 'NONE', 0.0, 0.0, 0.0, 1.0 ]\n",
    "    \n",
    "    return adjust_detection_probability(dataframe)\n",
    "\n",
    "# Diagnosis and general configuration - We assume that they always detect true positives.\n",
    "def standard_simulation(dataframe):\n",
    "    dataframe.insert(6, 'hasDisease', 'Disease')\n",
    "    dataframe.insert(7, 'DetectionCase', 'NONE')\n",
    "    dataframe.insert(12, 'DetectionProbability', 1.0)\n",
    "    dataframe = dataframe.reset_index(drop=True)\n",
    "    \n",
    "\n",
    "    dataframe = pd.concat([dataframe, dataframe[-1:]]).reset_index(drop=True)\n",
    "    dataframe.loc[dataframe.index[-1],['hasDisease', 'DetectionCase','DetectionProbability', 'manifestation', 'manifestationProbability',\t\n",
    "                             'manifestationInitialAmount', 'manifestationAnnualAmount', 'utilityValue']] = \\\n",
    "        ['No Disease', 'NONE', 1.0, 'NONE', 0.0, 0.0, 0.0, 1.0 ]\n",
    "    \n",
    "    dataframe.loc[dataframe['hasDisease'] == 'Disease', 'DetectionProbability'] = dataframe['prevalenceAtBirth']\n",
    "    dataframe.loc[dataframe['hasDisease'] == 'No Disease', 'DetectionProbability'] = 1-dataframe['prevalenceAtBirth']\n",
    "    \n",
    "    return dataframe\n",
    "\n",
    "# We must calculate the combinations between manifestations to obtain the real probability of each event.\n",
    "def adjust_branch_probability(dataframe):\n",
    "\n",
    "    dataframe['Branch Probability'] = 0.0\n",
    "    ref_column = 'manifestation'\n",
    "\n",
    "    # Get the unique values in the reference column\n",
    "    ref_values = dataframe[ref_column].unique()\n",
    "    ref_values = [i for i in ref_values if i != 'NONE']\n",
    "\n",
    "    # Generate all combinations of \"Yes\" and \"No\" values\n",
    "    combos = list(product(['Yes', 'No'], repeat=len(ref_values)))\n",
    "    new_df = pd.DataFrame(columns=[ref_column] + [f'{ref_values[i]}' for i in range(len(ref_values))])\n",
    "\n",
    "    # We generate dataframe with the possible combinations of manifestations\n",
    "    for i, combo in enumerate(combos):\n",
    "        new_row = {ref_column: dataframe['detectionStrategy'].unique()}\n",
    "        for j, value in enumerate(combo):\n",
    "            new_row[f'{ref_values[j]}'] = value\n",
    "        new_df.loc[i] = new_row\n",
    "    # We replace the \"Yes\" and \"No\" values by the probability of each manifestation\n",
    "    for column in new_df.columns[1:]:\n",
    "        row = dataframe.loc[dataframe[ref_column] == column]\n",
    "        new_df.loc[new_df[column] == 'Yes', column] = row['manifestationProbability'].values[0]\n",
    "        new_df.loc[new_df[column] == 'No', column] = 1-row['manifestationProbability'].values[0]\n",
    "        \n",
    "    # We add a column with the real probability of each combination of manifestations\n",
    "    new_df['Probability'] = new_df.iloc[:, 1:].apply(lambda x: x.prod(), axis=1)\n",
    "    # Probability up to the starting point of the branch of study\n",
    "    detection_prob = dataframe['DetectionProbability'].unique()[0]\n",
    "    # For each combination associated with a manifestation we multiply its actual \n",
    "    # probability by the probability of detection. We add them all together and obtain \n",
    "    # the absolute probability of each manifestation.\n",
    "    for column in new_df.iloc[:, 1:-1]:\n",
    "        row = dataframe.loc[dataframe[ref_column] == column].squeeze()\n",
    "\n",
    "        manifestation_prob = row['manifestationProbability']\n",
    "\n",
    "        new_df.loc[new_df[column] == manifestation_prob, 'Probability'] = detection_prob*new_df['Probability']\n",
    "        sum = new_df.loc[new_df[column] == manifestation_prob, 'Probability'].sum()\n",
    "        dataframe.loc[dataframe['manifestation'] == column, 'Branch Probability'] = sum\n",
    "        \n",
    "    return dataframe\n",
    "    "
   ]
  },
  {
   "cell_type": "markdown",
   "metadata": {},
   "source": [
    "* We apply the appropriate transformation to each type of intervention analyzed."
   ]
  },
  {
   "cell_type": "code",
   "execution_count": null,
   "metadata": {},
   "outputs": [],
   "source": [
    "for i in range(len(interventions_df)):\n",
    "\n",
    "    if 'SCREENING' in interventions_df[i]['interventionKind'].unique()\\\n",
    "    and 'NEONATAL' in interventions_df[i]['populationKind'].unique():\n",
    "        interventions_df[i] = screening_simulation(interventions_df[i])\n",
    "        interventions_df[i] = adjust_branch_probability(interventions_df[i])\n",
    "    else:\n",
    "        interventions_df[i] = standard_simulation(interventions_df[i])\n",
    "        interventions_df[i] = adjust_branch_probability(interventions_df[i])"
   ]
  },
  {
   "attachments": {},
   "cell_type": "markdown",
   "metadata": {},
   "source": [
    "* We should update costs according to the Spanish Consumer Price Index (CPI). \n",
    "* We use the values of CPI in January for each year.\n",
    "* As we add more studies, other parameters should be added."
   ]
  },
  {
   "cell_type": "code",
   "execution_count": null,
   "metadata": {},
   "outputs": [],
   "source": [
    "LAST_YEAR = 2023\n",
    "GENERAL_INDEX = [69.53, 72.111, 73.773, 76.046, 79.234, 81.129, 84.598, 85.281, 86.158, 88.975, 90.753, 93.188, 93.373, 92.141, 91.876, 94.609, 95.153, 96.085, 97.139, 97.583, 103.567, 109.67]\n",
    "HEALTHCARE_INDEX = [86.313, 88.385, 90.115, 90.337, 90.946, 92.417, 90.668, 90.732, 89.542, 88.267, 85.699, 96.032, 97.271, 97.175, 96.828, 97.551, 97.848, 98.694, 99.149, 99.62, 100.5]\n",
    "FIRST_YEAR = LAST_YEAR - len(GENERAL_INDEX) + 1\n",
    "\n",
    "def update_cost(cost, original_year, new_year, use_general_index):\n",
    "\n",
    "    ipc = []\n",
    "\n",
    "    if (original_year == new_year):\n",
    "         return cost\n",
    "    elif (original_year > LAST_YEAR | original_year < FIRST_YEAR):\n",
    "        raise Exception('Parameter out of range')\n",
    "    elif (new_year > LAST_YEAR | new_year < FIRST_YEAR):\n",
    "        raise Exception('Parameter out of range')\n",
    "    \n",
    "    if use_general_index:\n",
    "        ipc = GENERAL_INDEX\n",
    "    else:\n",
    "        ipc = HEALTHCARE_INDEX\n",
    "    \n",
    "    original_ipc = ipc[original_year - FIRST_YEAR]\n",
    "    new_ipc = ipc[new_year - FIRST_YEAR]\n",
    "    return cost * round(1000 * new_ipc / original_ipc) / 1000.0\n",
    "\n",
    "def update_dataframe_costs(dataframe):\n",
    "\n",
    "    dataframe['detectionStrategyAmount'] = dataframe.apply(lambda row: update_cost(row['detectionStrategyAmount'], \\\n",
    "                                            row['detectionStrategyYear'], LAST_YEAR, True), axis=1)\n",
    "    \n",
    "    dataframe['manifestationInitialAmount'] = dataframe.apply(lambda row: update_cost(row['manifestationInitialAmount'], \\\n",
    "                                            row['manifestationYear'], LAST_YEAR, True), axis=1)\n",
    "    dataframe['manifestationAnnualAmount'] = dataframe.apply(lambda row: update_cost(row['manifestationAnnualAmount'], \\\n",
    "                                            row['manifestationYear'], LAST_YEAR, True), axis=1)\n",
    "    \n",
    "    dataframe['followUpAmount'] = dataframe.apply(lambda row: update_cost(row['followUpAmount'], \\\n",
    "                                            row['followUpYear'], LAST_YEAR, True), axis=1)\n",
    "    \n",
    "    dataframe['treatmentStrategyAmount'] = dataframe.apply(lambda row: update_cost(row['treatmentStrategyAmount'], \\\n",
    "                                            row['treatmentYear'], LAST_YEAR, True), axis=1)\n",
    "    \n",
    "    return dataframe"
   ]
  },
  {
   "cell_type": "markdown",
   "metadata": {},
   "source": [
    "* We obtain a dataframe with the cost-effectiveness analysis."
   ]
  },
  {
   "cell_type": "code",
   "execution_count": null,
   "metadata": {},
   "outputs": [],
   "source": [
    "# It is convenient to say which parameters we want to treat as numerical parameters.\n",
    "numeric_params = ['populationSetAge', 'populationEndAge',  'DetectionProbability','detectionStrategyAmount','lifeExpectancy',\n",
    "                     'manifestationProbability', 'manifestationInitialAmount', 'manifestationAnnualAmount', \n",
    "                     'utilityValue', 'followUpAmount', 'treatmentStrategyAmount', 'detectionStrategyYear', \n",
    "                     'manifestationYear', 'followUpYear', 'treatmentYear', 'Branch Probability']\n",
    "\n",
    "# Full analysis table - Has some extra but not crucial information\n",
    "full_dataframe = pd.DataFrame()\n",
    "\n",
    "# We unify the sub-tables of the analysis of each disease-development-intervention\n",
    "for i in range(len(interventions_df)):\n",
    "    full_dataframe = pd.concat([full_dataframe, interventions_df[i]], axis=0).reset_index(drop=True)\n",
    "for i in numeric_params:\n",
    "    full_dataframe[i] = full_dataframe[i].apply(pd.to_numeric)\n",
    "\n",
    "# We update the costs to the present time\n",
    "full_dataframe = update_dataframe_costs(full_dataframe)\n",
    "\n",
    "# We create a final dataframe with the most important columns of our analysis\n",
    "ce_dataframe = full_dataframe[['disease', 'interventionKind', 'hasDisease', 'DetectionCase', 'detectionStrategy', 'development', \n",
    "              'manifestation', 'followUpStrategy', 'treatmentStrategy', 'populationSetAge', 'populationEndAge', 'DetectionProbability' ,\n",
    "              'detectionStrategyAmount', 'lifeExpectancy', 'manifestationProbability', \n",
    "              'manifestationInitialAmount', 'manifestationAnnualAmount', 'utilityValue', 'followUpAmount',\n",
    "              'treatmentStrategyAmount', 'Branch Probability']].copy()\n",
    "\n",
    "# Probability of reaching each event\n",
    "ce_dataframe.loc[ce_dataframe['manifestationProbability'] == 0.000, 'Branch Probability'] = ce_dataframe['DetectionProbability']\n",
    "\n",
    "# Initial cost associated with a manifestation\n",
    "ce_dataframe['Branch Initial Cost'] = ce_dataframe['detectionStrategyAmount']+\\\n",
    "    (ce_dataframe['Branch Probability']*ce_dataframe['manifestationInitialAmount'])\n",
    "\n",
    "# Annual cost associated with a manifestation\n",
    "ce_dataframe['Branch Annual Cost'] = ce_dataframe['detectionStrategyAmount']+\\\n",
    "    (ce_dataframe['Branch Probability']*(ce_dataframe['manifestationAnnualAmount']\n",
    "                                     +ce_dataframe['followUpAmount']+ce_dataframe['treatmentStrategyAmount']))\n",
    "\n",
    "# QUALYs associated with a manifestation\n",
    "ce_dataframe['Branch QUALYs'] = ce_dataframe['Branch Probability']*\\\n",
    "    ce_dataframe['lifeExpectancy']*ce_dataframe['utilityValue']   \n",
    "\n",
    "#full_dataframe\n",
    "#show(ce_dataframe)\n",
    "ce_dataframe\n",
    "#suma = ce_dataframe.loc[ce_dataframe['interventionKind'] == 'SCREENING', 'Branch Probability'].sum()\n",
    "#suma = ce_dataframe['Branch Probability'].sum()\n",
    "#suma"
   ]
  },
  {
   "attachments": {},
   "cell_type": "markdown",
   "metadata": {},
   "source": [
    "* Comparison of final results between the interventions studied."
   ]
  },
  {
   "cell_type": "code",
   "execution_count": null,
   "metadata": {},
   "outputs": [],
   "source": [
    "# Specific groupings we want from the data\n",
    "grouped_params = ['interventionKind', 'detectionStrategy', 'treatmentStrategy', 'followUpStrategy']\n",
    "grouped_df = ce_dataframe.groupby(grouped_params, as_index = False)[['Branch Initial Cost', 'Branch Annual Cost', 'Branch QUALYs']].mean()\n",
    "grouped_df\n",
    "\n",
    "# Bar chart to compare the desired parameters of the different groupings\n",
    "#fig, ax = plt.subplots(figsize=(15,7))\n",
    "#diagram = ce_dataframe.groupby(grouped_params).agg({'Branch QUALYs': ['mean'], 'Branch Initial Cost': ['mean'], 'Branch Annual Cost': ['mean'] })\n",
    "#diagram.plot.barh(ax=ax)\n",
    "\n",
    "#for bars in ax.containers:\n",
    "#    ax.bar_label(bars, fontweight = 'bold')"
   ]
  },
  {
   "cell_type": "markdown",
   "metadata": {},
   "source": [
    "---\n",
    "\n",
    "\n",
    "\n",
    "---\n",
    "\n",
    "\n",
    "\n",
    "---"
   ]
  },
  {
   "attachments": {},
   "cell_type": "markdown",
   "metadata": {},
   "source": [
    "* We can visualize the results obtained from our analysis - We grouped data of interest from the CE analysis"
   ]
  },
  {
   "cell_type": "code",
   "execution_count": null,
   "metadata": {},
   "outputs": [],
   "source": [
    "# Specific groupings we want from the data\n",
    "grouped_params = ['interventionKind', 'detectionStrategy', 'treatmentStrategy', 'followUpStrategy']\n",
    "# Column of the cost-effective analysis to be analyzed\n",
    "data_to_display = 'Branch QUALYs'\n",
    "# Quantitative values to be compared for the different groupings\n",
    "params_to_display = ['count','sum', 'mean', 'min', 'max']\n",
    "\n",
    "# We can see the table of groupings to verify its confection\n",
    "# ceDataframe.groupby(groupedParameters).describe()\n",
    "\n",
    "# Bar chart to compare the desired parameters of the different groupings\n",
    "fig, ax = plt.subplots(figsize=(15,7))\n",
    "diagram = ce_dataframe.groupby(grouped_params).agg({data_to_display: params_to_display})\n",
    "diagram.plot.barh(ax=ax)\n",
    "\n",
    "for bars in ax.containers:\n",
    "    ax.bar_label(bars, fontweight = 'bold')\n",
    "#plt.xticks(rotation=45, ha='right')"
   ]
  },
  {
   "attachments": {},
   "cell_type": "markdown",
   "metadata": {},
   "source": [
    "* We can visualize the CE analysis stucture represented by our table in tree form."
   ]
  },
  {
   "cell_type": "code",
   "execution_count": null,
   "metadata": {},
   "outputs": [],
   "source": [
    "diagnosisDictionary = {'Disease':\n",
    "        { 'Development':\n",
    "            {'Intervention':\n",
    "                {'Has Disease':\n",
    "                    {\n",
    "                        'Manifestation_1':{},\n",
    "                        'Manifestation_N':{}\n",
    "                    },\n",
    "                'No Disease':\n",
    "                    {\n",
    "                    }     \n",
    "                }\n",
    "            }\n",
    "        }\n",
    "}\n",
    "\n",
    "screeningDictionary = {'Disease':\n",
    "        {'Development':\n",
    "            {'Intervention':\n",
    "                {'Has Disease':\n",
    "                    {\n",
    "                        'True Positive':{},\n",
    "                        'False Positive':\n",
    "                        {\n",
    "                            'Manifestation_1':{},\n",
    "                            'Manifestation_N':{}\n",
    "                        },\n",
    "                    },\n",
    "                'No Disease':\n",
    "                    {\n",
    "                        'True Negative':{},\n",
    "                        'False Negative':{}\n",
    "                    }     \n",
    "                }\n",
    "            }\n",
    "        }     \n",
    "}\n",
    "\n",
    "def draw(parent_name, graph, child_name):\n",
    "    edge = pydot.Edge(parent_name, child_name)\n",
    "    graph.add_edge(edge)\n",
    "    \n",
    "def visit(node, graph, parent=None):\n",
    "    for k,v in node.items():\n",
    "        if isinstance(v, dict):\n",
    "            # We start with the root node whose parent is None\n",
    "            # we don't want to graph the None node\n",
    "            if parent:\n",
    "                draw(parent, graph, k)\n",
    "            visit(v, graph, k)\n",
    "        else:\n",
    "            draw(parent, graph, k)\n",
    "            # Drawing the label using a distinct name\n",
    "            draw(k, graph,  k+'_'+v)\n",
    "\n",
    "def view_pydot(pdot):\n",
    "    plt = Image(pdot.create_png())\n",
    "    display(plt)\n",
    "\n",
    "#graph = pydot.Dot(graph_type='graph')\n",
    "#visit(screeningDictionary)\n",
    "#graph.write_png('example1_graph.png')\n",
    "#diagnosisDictionary['PBD_ProfoundBiotinidaseDeficiency'] = diagnosisDictionary.pop('Disease')\n",
    "screening_graph = pydot.Dot(graph_type='digraph')\n",
    "visit(screeningDictionary, screening_graph)\n",
    "diagnosis_graph = pydot.Dot(graph_type='digraph')\n",
    "visit(diagnosisDictionary, diagnosis_graph)\n",
    "#graph.write_png('example1_graph.png')\n",
    "\n",
    "view_pydot(screening_graph)\n",
    "view_pydot(diagnosis_graph)\n"
   ]
  },
  {
   "cell_type": "markdown",
   "metadata": {},
   "source": [
    "---\n",
    "\n",
    "\n",
    "\n",
    "---\n",
    "\n",
    "\n",
    "\n",
    "---"
   ]
  },
  {
   "cell_type": "markdown",
   "metadata": {},
   "source": [
    "* We can export the results of the cost-benefit analysis to the most convenient format to continue with the inference."
   ]
  },
  {
   "cell_type": "code",
   "execution_count": null,
   "metadata": {},
   "outputs": [],
   "source": [
    "# Export and download in XLSX format\n",
    "%pip install openpyxl\n",
    "\n",
    "destinyPath = 'C:/Users/storh/Downloads/output.xlsx'\n",
    "ce_dataframe.to_excel(destinyPath, index=False)"
   ]
  },
  {
   "cell_type": "code",
   "execution_count": null,
   "metadata": {
    "id": "j-3qVIyOwnnL"
   },
   "outputs": [],
   "source": [
    "# Export and download in JSON format\n",
    "destinyPath = 'C:/Users/storh/Downloads/output.json'\n",
    "ce_dataframe.to_json(destinyPath)"
   ]
  },
  {
   "cell_type": "code",
   "execution_count": null,
   "metadata": {
    "colab": {
     "base_uri": "https://localhost:8080/",
     "height": 34
    },
    "id": "tRx2BvIUwnbl",
    "outputId": "54611f18-1b29-4ff6-f0a2-3e0c4c1fe7f5"
   },
   "outputs": [],
   "source": [
    "# Export and download in CSV format\n",
    "destinyPath = 'C:/Users/storh/Downloads/output.csv'\n",
    "ce_dataframe.to_csv(destinyPath,  index=False, header=True)"
   ]
  },
  {
   "cell_type": "code",
   "execution_count": null,
   "metadata": {
    "id": "ove180sHwnwz"
   },
   "outputs": [],
   "source": [
    "# Export and download in HTML format\n",
    "destinyPath = 'C:/Users/storh/Downloads/output.html'\n",
    "ce_dataframe.to_html(destinyPath)"
   ]
  }
 ],
 "metadata": {
  "colab": {
   "provenance": [],
   "toc_visible": true
  },
  "kernelspec": {
   "display_name": "Python 3 (ipykernel)",
   "language": "python",
   "name": "python3"
  },
  "language_info": {
   "codemirror_mode": {
    "name": "ipython",
    "version": 3
   },
   "file_extension": ".py",
   "mimetype": "text/x-python",
   "name": "python",
   "nbconvert_exporter": "python",
   "pygments_lexer": "ipython3",
   "version": "3.11.1"
  },
  "vscode": {
   "interpreter": {
    "hash": "52634da84371cba311ea128a5ea7cdc41ff074b781779e754b270ff9f8153cee"
   }
  }
 },
 "nbformat": 4,
 "nbformat_minor": 4
}
