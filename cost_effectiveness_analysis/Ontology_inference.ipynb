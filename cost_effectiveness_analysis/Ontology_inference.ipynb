{
 "cells": [
  {
   "attachments": {},
   "cell_type": "markdown",
   "metadata": {},
   "source": [
    "# **Inference from ontology - StaDiOS**"
   ]
  },
  {
   "attachments": {},
   "cell_type": "markdown",
   "metadata": {},
   "source": [
    "* Install the dependencies to be used in the analysis"
   ]
  },
  {
   "cell_type": "code",
   "execution_count": null,
   "metadata": {},
   "outputs": [],
   "source": [
    "# SPARQL Endpoint interface to Python\n",
    "%pip install sparqlwrapper\n",
    "from SPARQLWrapper import SPARQLWrapper, JSON\n",
    "\n",
    "# Pandas depencies\n",
    "import pandas as pd\n",
    "from pandas import json_normalize\n",
    "\n",
    "# Export dependencies and file modification\n",
    "import json\n",
    "#from google.colab import files\n",
    "#from IPython.display import FileLink\n",
    "\n",
    "# Graphical representations and interaction options\n",
    "%pip install matplotlib\n",
    "import matplotlib.pyplot as plt\n",
    "\n",
    "# Calculation of coordinate distances\n",
    "%pip install geopy\n",
    "from geopy.distance import geodesic as gd\n",
    "import re\n",
    "import operator"
   ]
  },
  {
   "attachments": {},
   "cell_type": "markdown",
   "metadata": {},
   "source": [
    "*  What treatments/follow-up tests do X and Y manifestations of Z disease have in common?"
   ]
  },
  {
   "cell_type": "code",
   "execution_count": null,
   "metadata": {},
   "outputs": [],
   "source": [
    "sparql = SPARQLWrapper(\"http://localhost:3030/StaDiOS/sparql\", agent=\"SparqlWrapper - StaDiOS analysis\")\n",
    "\n",
    "sparql.setQuery(\"\"\"\n",
    "\n",
    "PREFIX owl: <http://www.w3.org/2002/07/owl#>\n",
    "PREFIX rdf: <http://www.w3.org/1999/02/22-rdf-syntax-ns#>\n",
    "PREFIX rdfs: <http://www.w3.org/2000/01/rdf-schema#>\n",
    "PREFIX std: <http://www.semanticweb.org/storh/ontologies/2022/11/StaDiOS#>\n",
    "\n",
    "SELECT ?disease ?development ?manifestation ?treatment\n",
    "WHERE {\n",
    "    ?disease std:hasDiseaseDevelopments ?development .\n",
    "    ?development std:hasDevelopmentManifestations ?manifestation .\n",
    "    ?manifestation std:hasManifestationTreatmentStrategy ?treatment .\n",
    "} \n",
    "\n",
    "\n",
    "\"\"\")\n",
    "\n",
    "# Ask for the result in JSON format\n",
    "sparql.setReturnFormat(JSON)\n",
    "results = sparql.query().convert()\n",
    "results = json_normalize(results[\"results\"][\"bindings\"])\n",
    "\n",
    "# Simplify column names and data types\n",
    "simplified_table = results.filter(regex='value')\n",
    "simplified_table = simplified_table.rename(columns = lambda col: col.replace(\".value\", \"\"))\n",
    "simplified_table = simplified_table.apply(lambda row: row.replace({'http://www.semanticweb.org/storh/ontologies/2022/11/StaDiOS#':''}, regex=True))\n",
    "\n",
    "grouped_dataframe  = simplified_table.groupby(['treatment'])\n",
    "for key, item in grouped_dataframe:\n",
    "    print(grouped_dataframe.get_group(key), \"\\n\\n\")"
   ]
  },
  {
   "attachments": {},
   "cell_type": "markdown",
   "metadata": {},
   "source": [
    "# **Inference from external ontologies - StaDiOS**"
   ]
  },
  {
   "attachments": {},
   "cell_type": "markdown",
   "metadata": {},
   "source": [
    "* Obtain all parameters whose country of origin is within the European Union"
   ]
  },
  {
   "cell_type": "code",
   "execution_count": null,
   "metadata": {},
   "outputs": [],
   "source": [
    "sparql = SPARQLWrapper(\"http://localhost:3030/StaDiOS/sparql\", agent=\"SparqlWrapper - StaDiOS analysis\")\n",
    "\n",
    "sparql.setQuery(\"\"\"\n",
    "\n",
    "PREFIX std: <http://www.semanticweb.org/storh/ontologies/2022/11/StaDiOS#>\n",
    "PREFIX wd: <http://www.wikidata.org/entity/>\n",
    "PREFIX wdt: <http://www.wikidata.org/prop/direct/>\n",
    "PREFIX rdf: <http://www.w3.org/1999/02/22-rdf-syntax-ns#>\n",
    "PREFIX rdfs: <http://www.w3.org/2000/01/rdf-schema#>\n",
    "PREFIX owl: <http://www.w3.org/2002/07/owl#>\n",
    "\n",
    "SELECT ?disease ?development ?parameterType ?parameter ?studyIdentifier ?parameterCountry ?countryLabel WHERE {\n",
    "\n",
    "   ?parameter std:hasCountry ?parameterCountry;\n",
    "              std:hasStudyIdentifier ?studyIdentifier;\n",
    "              rdf:type ?parameterType .\n",
    "   ?parameterType a owl:Class.\n",
    "\n",
    "   SERVICE <https://query.wikidata.org/sparql> {\n",
    "      { \n",
    "         wd:Q458 wdt:P527  ?country .\n",
    "         ?country rdfs:label ?countryLabel .\n",
    "         FILTER (lang(?countryLabel)=\"en\")\n",
    "      }\n",
    "   }\n",
    "   FILTER CONTAINS(?countryLabel,?parameterCountry)\n",
    "}\n",
    "\n",
    "\"\"\")\n",
    "\n",
    "# Ask for the result in JSON format\n",
    "sparql.setReturnFormat(JSON)\n",
    "results = sparql.query().convert()\n",
    "results = json_normalize(results[\"results\"][\"bindings\"])\n",
    "\n",
    "# Simplify column names and data types\n",
    "simplified_table = results.filter(regex='value')\n",
    "simplified_table = simplified_table.rename(columns = lambda col: col.replace(\".value\", \"\"))\n",
    "simplified_table = simplified_table.apply(lambda row: row.replace({'http://www.semanticweb.org/storh/ontologies/2022/11/StaDiOS#':''}, regex=True))\n",
    "\n",
    "simplified_table"
   ]
  },
  {
   "attachments": {},
   "cell_type": "markdown",
   "metadata": {},
   "source": [
    "* Get parameters with their countries and coordinates"
   ]
  },
  {
   "cell_type": "code",
   "execution_count": null,
   "metadata": {},
   "outputs": [],
   "source": [
    "sparql = SPARQLWrapper(\"http://localhost:3030/StaDiOS/sparql\", agent=\"SparqlWrapper on Jupyter example\")\n",
    "\n",
    "sparql.setQuery(\"\"\"\n",
    "\n",
    "PREFIX std: <http://www.semanticweb.org/storh/ontologies/2022/11/StaDiOS#>\n",
    "PREFIX wd: <http://www.wikidata.org/entity/>\n",
    "PREFIX wdt: <http://www.wikidata.org/prop/direct/>\n",
    "PREFIX rdf: <http://www.w3.org/1999/02/22-rdf-syntax-ns#>\n",
    "PREFIX rdfs: <http://www.w3.org/2000/01/rdf-schema#>\n",
    "PREFIX owl: <http://www.w3.org/2002/07/owl#>\n",
    "\n",
    "SELECT DISTINCT ?disease ?development ?parameterType ?parameter ?studyIdentifier ?countryLabel ?coordinates\n",
    "WHERE \n",
    "{\n",
    "  ?disease a std:Disease;\n",
    "            std:hasDiseaseDevelopments ?development.\n",
    "  ?parameter std:hasCountry ?parameterCountry;\n",
    "             std:hasStudyIdentifier ?studyIdentifier;\n",
    "             rdf:type ?parameterType.\n",
    "  ?parameterType a owl:Class.\n",
    "  \n",
    "  SERVICE <https://query.wikidata.org/sparql> \n",
    "  {\n",
    "      { \n",
    "          ?item ((wdt:P31)/(wdt:P279*)) wd:Q6256;\n",
    "          rdfs:label ?countryLabel;\n",
    "          wdt:P625 ?coordinates.\n",
    "          FILTER (lang(?countryLabel)=\"en\")\n",
    "      }\n",
    "   }\n",
    "  FILTER CONTAINS(?countryLabel,?parameterCountry)\n",
    "}\n",
    "\n",
    "\"\"\")\n",
    "\n",
    "# Ask for the result in JSON format\n",
    "sparql.setReturnFormat(JSON)\n",
    "results = sparql.query().convert()\n",
    "results = json_normalize(results[\"results\"][\"bindings\"])\n",
    "\n",
    "# Simplify column names and data types\n",
    "simplified_table = results.filter(regex='value')\n",
    "simplified_table = simplified_table.rename(columns = lambda col: col.replace(\".value\", \"\"))\n",
    "simplified_table = simplified_table.apply(lambda row: row.replace({'http://www.semanticweb.org/storh/ontologies/2022/11/StaDiOS#':''}, regex=True))\n",
    "simplified_table"
   ]
  },
  {
   "attachments": {},
   "cell_type": "markdown",
   "metadata": {},
   "source": [
    "* Obtain the parameters closest to a parameter type and country of origin."
   ]
  },
  {
   "cell_type": "code",
   "execution_count": null,
   "metadata": {},
   "outputs": [],
   "source": [
    "def get_nearest_param(dataframe, parameter_type, country_label, study_identifier):\n",
    "\n",
    "    # We are left with the available countries and parameters\n",
    "    distance_list = list()\n",
    "    aux_table = dataframe[dataframe['parameterType'] == parameter_type]\n",
    "    aux_table = aux_table.drop_duplicates(['parameterType','countryLabel'])\n",
    "    aux_table = aux_table.reset_index()\n",
    "\n",
    "    # From a country and study of origin we obtain its coordinates\n",
    "    origin_coordinates = aux_table[(aux_table['countryLabel'] == country_label) & \\\n",
    "                                   (aux_table['studyIdentifier'] == study_identifier)]\n",
    "    origin_coordinates = re.findall (r'([^( )]+)(?!.*\\()', origin_coordinates.iloc[0]['coordinates'])\n",
    "    origin = (origin_coordinates[0], origin_coordinates[1])\n",
    "    \n",
    "    # We calculate the distances of the rest of the parameters with respect to the point of origin\n",
    "    for index,row in aux_table.iterrows():\n",
    "        if row['countryLabel'] != country_label:\n",
    "            coordinates = re.findall (r'([^( )]+)(?!.*\\()', row['coordinates'])\n",
    "            destination = (coordinates[0], coordinates[1])\n",
    "            distance = gd(destination, origin).km\n",
    "            distance_list.append((distance, row['countryLabel']))\n",
    "    \n",
    "    return distance_list\n",
    "\n",
    "distances = get_nearest_param(simplified_table, 'Cost', 'Germany', 'PBD_002')\n",
    "distances.append((1400.57, 'France'))\n",
    "distances.append((45000.568, 'USA'))\n",
    "distances.sort(key=operator.itemgetter(0))\n",
    "distances"
   ]
  }
 ],
 "metadata": {
  "kernelspec": {
   "display_name": "Python 3",
   "language": "python",
   "name": "python3"
  },
  "language_info": {
   "codemirror_mode": {
    "name": "ipython",
    "version": 3
   },
   "file_extension": ".py",
   "mimetype": "text/x-python",
   "name": "python",
   "nbconvert_exporter": "python",
   "pygments_lexer": "ipython3",
   "version": "3.11.1"
  },
  "orig_nbformat": 4,
  "vscode": {
   "interpreter": {
    "hash": "52634da84371cba311ea128a5ea7cdc41ff074b781779e754b270ff9f8153cee"
   }
  }
 },
 "nbformat": 4,
 "nbformat_minor": 2
}
